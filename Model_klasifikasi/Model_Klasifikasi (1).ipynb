{
  "cells": [
    {
      "cell_type": "markdown",
      "metadata": {
        "id": "ojQfSkNyqXk1"
      },
      "source": [
        "# Import Library"
      ]
    },
    {
      "cell_type": "code",
      "execution_count": null,
      "metadata": {
        "id": "4qn0XkT6qntN",
        "colab": {
          "base_uri": "https://localhost:8080/"
        },
        "outputId": "69aabd7c-e4ed-48bd-9a57-3673c85153de"
      },
      "outputs": [
        {
          "output_type": "stream",
          "name": "stdout",
          "text": [
            "Mounted at /content/drive\n"
          ]
        }
      ],
      "source": [
        "from google.colab import drive\n",
        "drive.mount(\"/content/drive\", force_remount = True)"
      ]
    },
    {
      "cell_type": "code",
      "execution_count": null,
      "metadata": {
        "id": "nz0MmaJ4qRZ2"
      },
      "outputs": [],
      "source": [
        "import pandas as pd\n",
        "import numpy as np\n",
        "import seaborn as sns\n",
        "import re, string\n",
        "import matplotlib.pyplot as plt\n",
        "import itertools\n",
        "\n",
        "from sklearn.feature_extraction.text import TfidfTransformer, TfidfVectorizer\n",
        "from sklearn.model_selection import GridSearchCV\n",
        "from sklearn.model_selection import ShuffleSplit\n",
        "from sklearn.model_selection import cross_val_score\n",
        "\n",
        "# model\n",
        "from sklearn.naive_bayes import MultinomialNB\n",
        "from sklearn.neighbors import KNeighborsClassifier\n",
        "from sklearn import svm\n",
        "\n",
        "# evaluasi\n",
        "from sklearn import metrics\n",
        "from sklearn.metrics import classification_report, f1_score, accuracy_score, confusion_matrix"
      ]
    },
    {
      "cell_type": "markdown",
      "metadata": {
        "id": "KML9Bs3GqZh9"
      },
      "source": [
        "# Dataset"
      ]
    },
    {
      "cell_type": "code",
      "execution_count": null,
      "metadata": {
        "colab": {
          "base_uri": "https://localhost:8080/",
          "height": 206
        },
        "id": "FdfhI_SwqqtA",
        "outputId": "4cc9cee5-3422-4b13-b520-cafe13c8a20f"
      },
      "outputs": [
        {
          "output_type": "execute_result",
          "data": {
            "text/plain": [
              "                                                teks  label  \\\n",
              "0  BUKU PEMBANTU PAJAK\\nTahun Anggaran: (2021)\\nK...      1   \n",
              "1  BUKU PEMBANTU PAJAK\\n   Tahun Anggaran        ...      1   \n",
              "2  BUKU PEMBANTU PAJAK\\nTahun Anggaran (2021)\\n\\n...      1   \n",
              "3  BUKU PEMBANTU PAJAK\\n\\nTahun Anggaran\\n\\nKemen...      1   \n",
              "4  BUKU PEMBANTU PAJAK\\nTahun Anggaran\\nKementeri...      1   \n",
              "\n",
              "                                          clean_text  \n",
              "0  buku pembantu pajak anggaran kementerian lemba...  \n",
              "1  buku pembantu pajak anggaran kementerian lemba...  \n",
              "2  buku pembantu pajak anggaran kementerian lemba...  \n",
              "3  buku pembantu pajak anggaran kementerian lemba...  \n",
              "4  buku pembantu pajak anggaran kementerian lemba...  "
            ],
            "text/html": [
              "\n",
              "\n",
              "  <div id=\"df-0ecd3faa-7430-4f21-97b0-7ae4e7b445f9\">\n",
              "    <div class=\"colab-df-container\">\n",
              "      <div>\n",
              "<style scoped>\n",
              "    .dataframe tbody tr th:only-of-type {\n",
              "        vertical-align: middle;\n",
              "    }\n",
              "\n",
              "    .dataframe tbody tr th {\n",
              "        vertical-align: top;\n",
              "    }\n",
              "\n",
              "    .dataframe thead th {\n",
              "        text-align: right;\n",
              "    }\n",
              "</style>\n",
              "<table border=\"1\" class=\"dataframe\">\n",
              "  <thead>\n",
              "    <tr style=\"text-align: right;\">\n",
              "      <th></th>\n",
              "      <th>teks</th>\n",
              "      <th>label</th>\n",
              "      <th>clean_text</th>\n",
              "    </tr>\n",
              "  </thead>\n",
              "  <tbody>\n",
              "    <tr>\n",
              "      <th>0</th>\n",
              "      <td>BUKU PEMBANTU PAJAK\\nTahun Anggaran: (2021)\\nK...</td>\n",
              "      <td>1</td>\n",
              "      <td>buku pembantu pajak anggaran kementerian lemba...</td>\n",
              "    </tr>\n",
              "    <tr>\n",
              "      <th>1</th>\n",
              "      <td>BUKU PEMBANTU PAJAK\\n   Tahun Anggaran        ...</td>\n",
              "      <td>1</td>\n",
              "      <td>buku pembantu pajak anggaran kementerian lemba...</td>\n",
              "    </tr>\n",
              "    <tr>\n",
              "      <th>2</th>\n",
              "      <td>BUKU PEMBANTU PAJAK\\nTahun Anggaran (2021)\\n\\n...</td>\n",
              "      <td>1</td>\n",
              "      <td>buku pembantu pajak anggaran kementerian lemba...</td>\n",
              "    </tr>\n",
              "    <tr>\n",
              "      <th>3</th>\n",
              "      <td>BUKU PEMBANTU PAJAK\\n\\nTahun Anggaran\\n\\nKemen...</td>\n",
              "      <td>1</td>\n",
              "      <td>buku pembantu pajak anggaran kementerian lemba...</td>\n",
              "    </tr>\n",
              "    <tr>\n",
              "      <th>4</th>\n",
              "      <td>BUKU PEMBANTU PAJAK\\nTahun Anggaran\\nKementeri...</td>\n",
              "      <td>1</td>\n",
              "      <td>buku pembantu pajak anggaran kementerian lemba...</td>\n",
              "    </tr>\n",
              "  </tbody>\n",
              "</table>\n",
              "</div>\n",
              "      <button class=\"colab-df-convert\" onclick=\"convertToInteractive('df-0ecd3faa-7430-4f21-97b0-7ae4e7b445f9')\"\n",
              "              title=\"Convert this dataframe to an interactive table.\"\n",
              "              style=\"display:none;\">\n",
              "\n",
              "  <svg xmlns=\"http://www.w3.org/2000/svg\" height=\"24px\"viewBox=\"0 0 24 24\"\n",
              "       width=\"24px\">\n",
              "    <path d=\"M0 0h24v24H0V0z\" fill=\"none\"/>\n",
              "    <path d=\"M18.56 5.44l.94 2.06.94-2.06 2.06-.94-2.06-.94-.94-2.06-.94 2.06-2.06.94zm-11 1L8.5 8.5l.94-2.06 2.06-.94-2.06-.94L8.5 2.5l-.94 2.06-2.06.94zm10 10l.94 2.06.94-2.06 2.06-.94-2.06-.94-.94-2.06-.94 2.06-2.06.94z\"/><path d=\"M17.41 7.96l-1.37-1.37c-.4-.4-.92-.59-1.43-.59-.52 0-1.04.2-1.43.59L10.3 9.45l-7.72 7.72c-.78.78-.78 2.05 0 2.83L4 21.41c.39.39.9.59 1.41.59.51 0 1.02-.2 1.41-.59l7.78-7.78 2.81-2.81c.8-.78.8-2.07 0-2.86zM5.41 20L4 18.59l7.72-7.72 1.47 1.35L5.41 20z\"/>\n",
              "  </svg>\n",
              "      </button>\n",
              "\n",
              "\n",
              "\n",
              "    <div id=\"df-a47c0b36-c198-46c3-81bc-82df686d7066\">\n",
              "      <button class=\"colab-df-quickchart\" onclick=\"quickchart('df-a47c0b36-c198-46c3-81bc-82df686d7066')\"\n",
              "              title=\"Suggest charts.\"\n",
              "              style=\"display:none;\">\n",
              "\n",
              "<svg xmlns=\"http://www.w3.org/2000/svg\" height=\"24px\"viewBox=\"0 0 24 24\"\n",
              "     width=\"24px\">\n",
              "    <g>\n",
              "        <path d=\"M19 3H5c-1.1 0-2 .9-2 2v14c0 1.1.9 2 2 2h14c1.1 0 2-.9 2-2V5c0-1.1-.9-2-2-2zM9 17H7v-7h2v7zm4 0h-2V7h2v10zm4 0h-2v-4h2v4z\"/>\n",
              "    </g>\n",
              "</svg>\n",
              "      </button>\n",
              "    </div>\n",
              "\n",
              "<style>\n",
              "  .colab-df-quickchart {\n",
              "    background-color: #E8F0FE;\n",
              "    border: none;\n",
              "    border-radius: 50%;\n",
              "    cursor: pointer;\n",
              "    display: none;\n",
              "    fill: #1967D2;\n",
              "    height: 32px;\n",
              "    padding: 0 0 0 0;\n",
              "    width: 32px;\n",
              "  }\n",
              "\n",
              "  .colab-df-quickchart:hover {\n",
              "    background-color: #E2EBFA;\n",
              "    box-shadow: 0px 1px 2px rgba(60, 64, 67, 0.3), 0px 1px 3px 1px rgba(60, 64, 67, 0.15);\n",
              "    fill: #174EA6;\n",
              "  }\n",
              "\n",
              "  [theme=dark] .colab-df-quickchart {\n",
              "    background-color: #3B4455;\n",
              "    fill: #D2E3FC;\n",
              "  }\n",
              "\n",
              "  [theme=dark] .colab-df-quickchart:hover {\n",
              "    background-color: #434B5C;\n",
              "    box-shadow: 0px 1px 3px 1px rgba(0, 0, 0, 0.15);\n",
              "    filter: drop-shadow(0px 1px 2px rgba(0, 0, 0, 0.3));\n",
              "    fill: #FFFFFF;\n",
              "  }\n",
              "</style>\n",
              "\n",
              "    <script>\n",
              "      async function quickchart(key) {\n",
              "        const containerElement = document.querySelector('#' + key);\n",
              "        const charts = await google.colab.kernel.invokeFunction(\n",
              "            'suggestCharts', [key], {});\n",
              "      }\n",
              "    </script>\n",
              "\n",
              "      <script>\n",
              "\n",
              "function displayQuickchartButton(domScope) {\n",
              "  let quickchartButtonEl =\n",
              "    domScope.querySelector('#df-a47c0b36-c198-46c3-81bc-82df686d7066 button.colab-df-quickchart');\n",
              "  quickchartButtonEl.style.display =\n",
              "    google.colab.kernel.accessAllowed ? 'block' : 'none';\n",
              "}\n",
              "\n",
              "        displayQuickchartButton(document);\n",
              "      </script>\n",
              "      <style>\n",
              "    .colab-df-container {\n",
              "      display:flex;\n",
              "      flex-wrap:wrap;\n",
              "      gap: 12px;\n",
              "    }\n",
              "\n",
              "    .colab-df-convert {\n",
              "      background-color: #E8F0FE;\n",
              "      border: none;\n",
              "      border-radius: 50%;\n",
              "      cursor: pointer;\n",
              "      display: none;\n",
              "      fill: #1967D2;\n",
              "      height: 32px;\n",
              "      padding: 0 0 0 0;\n",
              "      width: 32px;\n",
              "    }\n",
              "\n",
              "    .colab-df-convert:hover {\n",
              "      background-color: #E2EBFA;\n",
              "      box-shadow: 0px 1px 2px rgba(60, 64, 67, 0.3), 0px 1px 3px 1px rgba(60, 64, 67, 0.15);\n",
              "      fill: #174EA6;\n",
              "    }\n",
              "\n",
              "    [theme=dark] .colab-df-convert {\n",
              "      background-color: #3B4455;\n",
              "      fill: #D2E3FC;\n",
              "    }\n",
              "\n",
              "    [theme=dark] .colab-df-convert:hover {\n",
              "      background-color: #434B5C;\n",
              "      box-shadow: 0px 1px 3px 1px rgba(0, 0, 0, 0.15);\n",
              "      filter: drop-shadow(0px 1px 2px rgba(0, 0, 0, 0.3));\n",
              "      fill: #FFFFFF;\n",
              "    }\n",
              "  </style>\n",
              "\n",
              "      <script>\n",
              "        const buttonEl =\n",
              "          document.querySelector('#df-0ecd3faa-7430-4f21-97b0-7ae4e7b445f9 button.colab-df-convert');\n",
              "        buttonEl.style.display =\n",
              "          google.colab.kernel.accessAllowed ? 'block' : 'none';\n",
              "\n",
              "        async function convertToInteractive(key) {\n",
              "          const element = document.querySelector('#df-0ecd3faa-7430-4f21-97b0-7ae4e7b445f9');\n",
              "          const dataTable =\n",
              "            await google.colab.kernel.invokeFunction('convertToInteractive',\n",
              "                                                     [key], {});\n",
              "          if (!dataTable) return;\n",
              "\n",
              "          const docLinkHtml = 'Like what you see? Visit the ' +\n",
              "            '<a target=\"_blank\" href=https://colab.research.google.com/notebooks/data_table.ipynb>data table notebook</a>'\n",
              "            + ' to learn more about interactive tables.';\n",
              "          element.innerHTML = '';\n",
              "          dataTable['output_type'] = 'display_data';\n",
              "          await google.colab.output.renderOutput(dataTable, element);\n",
              "          const docLink = document.createElement('div');\n",
              "          docLink.innerHTML = docLinkHtml;\n",
              "          element.appendChild(docLink);\n",
              "        }\n",
              "      </script>\n",
              "    </div>\n",
              "  </div>\n"
            ]
          },
          "metadata": {},
          "execution_count": 3
        }
      ],
      "source": [
        "df = pd.read_csv(\"/content/drive/MyDrive/skripsi/teks/hasil_preprocessing_dataset 5 kategori .csv\", encoding='utf-8')\n",
        "df.head()"
      ]
    },
    {
      "cell_type": "code",
      "execution_count": null,
      "metadata": {
        "colab": {
          "base_uri": "https://localhost:8080/",
          "height": 206
        },
        "id": "z76tWrQmMIdF",
        "outputId": "029fcd65-dbf5-4f30-df00-6589f5b894c7"
      },
      "outputs": [
        {
          "output_type": "execute_result",
          "data": {
            "text/plain": [
              "                                                teks  label  Unnamed: 2  \\\n",
              "0  BUKU PEMBANTU PAJAK\\n\\nTahun Anggaren : (2021)...      1         NaN   \n",
              "1  \"BUKU PEMBANTU PAJAK\\n\\nTahun Anggaran : (2021...      1         NaN   \n",
              "2  BUKU PEMBANTU PAJAK\\n\\nKorrenterige | Lembacs ...      1         NaN   \n",
              "3  BUKU PEMBANTU PAJAK\\n\\nTahun Anggaran : (2021)...      1         NaN   \n",
              "4  BUKU PEMBANTU PAJAK\\n\\nTahun Anggaran : (2021)...      1         NaN   \n",
              "\n",
              "   Unnamed: 3  Unnamed: 4                                         clean_text  \n",
              "0         1.0        12.0  buku pembantu pajaknntahun anggaren nnkementer...  \n",
              "1         2.0        12.0  buku pembantu pajaknntahun anggaran nnkementer...  \n",
              "2         3.0         7.0  buku pembantu pajaknnkorrenterige lembacs asa ...  \n",
              "3         4.0        12.0  buku pembantu pajaknntahun anggaran nnkementer...  \n",
              "4         5.0        12.0  buku pembantu pajaknntahun anggaran nnkementer...  "
            ],
            "text/html": [
              "\n",
              "\n",
              "  <div id=\"df-9bd74aa5-2fbd-46e0-bdc3-45927c788297\">\n",
              "    <div class=\"colab-df-container\">\n",
              "      <div>\n",
              "<style scoped>\n",
              "    .dataframe tbody tr th:only-of-type {\n",
              "        vertical-align: middle;\n",
              "    }\n",
              "\n",
              "    .dataframe tbody tr th {\n",
              "        vertical-align: top;\n",
              "    }\n",
              "\n",
              "    .dataframe thead th {\n",
              "        text-align: right;\n",
              "    }\n",
              "</style>\n",
              "<table border=\"1\" class=\"dataframe\">\n",
              "  <thead>\n",
              "    <tr style=\"text-align: right;\">\n",
              "      <th></th>\n",
              "      <th>teks</th>\n",
              "      <th>label</th>\n",
              "      <th>Unnamed: 2</th>\n",
              "      <th>Unnamed: 3</th>\n",
              "      <th>Unnamed: 4</th>\n",
              "      <th>clean_text</th>\n",
              "    </tr>\n",
              "  </thead>\n",
              "  <tbody>\n",
              "    <tr>\n",
              "      <th>0</th>\n",
              "      <td>BUKU PEMBANTU PAJAK\\n\\nTahun Anggaren : (2021)...</td>\n",
              "      <td>1</td>\n",
              "      <td>NaN</td>\n",
              "      <td>1.0</td>\n",
              "      <td>12.0</td>\n",
              "      <td>buku pembantu pajaknntahun anggaren nnkementer...</td>\n",
              "    </tr>\n",
              "    <tr>\n",
              "      <th>1</th>\n",
              "      <td>\"BUKU PEMBANTU PAJAK\\n\\nTahun Anggaran : (2021...</td>\n",
              "      <td>1</td>\n",
              "      <td>NaN</td>\n",
              "      <td>2.0</td>\n",
              "      <td>12.0</td>\n",
              "      <td>buku pembantu pajaknntahun anggaran nnkementer...</td>\n",
              "    </tr>\n",
              "    <tr>\n",
              "      <th>2</th>\n",
              "      <td>BUKU PEMBANTU PAJAK\\n\\nKorrenterige | Lembacs ...</td>\n",
              "      <td>1</td>\n",
              "      <td>NaN</td>\n",
              "      <td>3.0</td>\n",
              "      <td>7.0</td>\n",
              "      <td>buku pembantu pajaknnkorrenterige lembacs asa ...</td>\n",
              "    </tr>\n",
              "    <tr>\n",
              "      <th>3</th>\n",
              "      <td>BUKU PEMBANTU PAJAK\\n\\nTahun Anggaran : (2021)...</td>\n",
              "      <td>1</td>\n",
              "      <td>NaN</td>\n",
              "      <td>4.0</td>\n",
              "      <td>12.0</td>\n",
              "      <td>buku pembantu pajaknntahun anggaran nnkementer...</td>\n",
              "    </tr>\n",
              "    <tr>\n",
              "      <th>4</th>\n",
              "      <td>BUKU PEMBANTU PAJAK\\n\\nTahun Anggaran : (2021)...</td>\n",
              "      <td>1</td>\n",
              "      <td>NaN</td>\n",
              "      <td>5.0</td>\n",
              "      <td>12.0</td>\n",
              "      <td>buku pembantu pajaknntahun anggaran nnkementer...</td>\n",
              "    </tr>\n",
              "  </tbody>\n",
              "</table>\n",
              "</div>\n",
              "      <button class=\"colab-df-convert\" onclick=\"convertToInteractive('df-9bd74aa5-2fbd-46e0-bdc3-45927c788297')\"\n",
              "              title=\"Convert this dataframe to an interactive table.\"\n",
              "              style=\"display:none;\">\n",
              "\n",
              "  <svg xmlns=\"http://www.w3.org/2000/svg\" height=\"24px\"viewBox=\"0 0 24 24\"\n",
              "       width=\"24px\">\n",
              "    <path d=\"M0 0h24v24H0V0z\" fill=\"none\"/>\n",
              "    <path d=\"M18.56 5.44l.94 2.06.94-2.06 2.06-.94-2.06-.94-.94-2.06-.94 2.06-2.06.94zm-11 1L8.5 8.5l.94-2.06 2.06-.94-2.06-.94L8.5 2.5l-.94 2.06-2.06.94zm10 10l.94 2.06.94-2.06 2.06-.94-2.06-.94-.94-2.06-.94 2.06-2.06.94z\"/><path d=\"M17.41 7.96l-1.37-1.37c-.4-.4-.92-.59-1.43-.59-.52 0-1.04.2-1.43.59L10.3 9.45l-7.72 7.72c-.78.78-.78 2.05 0 2.83L4 21.41c.39.39.9.59 1.41.59.51 0 1.02-.2 1.41-.59l7.78-7.78 2.81-2.81c.8-.78.8-2.07 0-2.86zM5.41 20L4 18.59l7.72-7.72 1.47 1.35L5.41 20z\"/>\n",
              "  </svg>\n",
              "      </button>\n",
              "\n",
              "\n",
              "\n",
              "    <div id=\"df-f22f9cf5-5e58-4458-a37e-10f46479883b\">\n",
              "      <button class=\"colab-df-quickchart\" onclick=\"quickchart('df-f22f9cf5-5e58-4458-a37e-10f46479883b')\"\n",
              "              title=\"Suggest charts.\"\n",
              "              style=\"display:none;\">\n",
              "\n",
              "<svg xmlns=\"http://www.w3.org/2000/svg\" height=\"24px\"viewBox=\"0 0 24 24\"\n",
              "     width=\"24px\">\n",
              "    <g>\n",
              "        <path d=\"M19 3H5c-1.1 0-2 .9-2 2v14c0 1.1.9 2 2 2h14c1.1 0 2-.9 2-2V5c0-1.1-.9-2-2-2zM9 17H7v-7h2v7zm4 0h-2V7h2v10zm4 0h-2v-4h2v4z\"/>\n",
              "    </g>\n",
              "</svg>\n",
              "      </button>\n",
              "    </div>\n",
              "\n",
              "<style>\n",
              "  .colab-df-quickchart {\n",
              "    background-color: #E8F0FE;\n",
              "    border: none;\n",
              "    border-radius: 50%;\n",
              "    cursor: pointer;\n",
              "    display: none;\n",
              "    fill: #1967D2;\n",
              "    height: 32px;\n",
              "    padding: 0 0 0 0;\n",
              "    width: 32px;\n",
              "  }\n",
              "\n",
              "  .colab-df-quickchart:hover {\n",
              "    background-color: #E2EBFA;\n",
              "    box-shadow: 0px 1px 2px rgba(60, 64, 67, 0.3), 0px 1px 3px 1px rgba(60, 64, 67, 0.15);\n",
              "    fill: #174EA6;\n",
              "  }\n",
              "\n",
              "  [theme=dark] .colab-df-quickchart {\n",
              "    background-color: #3B4455;\n",
              "    fill: #D2E3FC;\n",
              "  }\n",
              "\n",
              "  [theme=dark] .colab-df-quickchart:hover {\n",
              "    background-color: #434B5C;\n",
              "    box-shadow: 0px 1px 3px 1px rgba(0, 0, 0, 0.15);\n",
              "    filter: drop-shadow(0px 1px 2px rgba(0, 0, 0, 0.3));\n",
              "    fill: #FFFFFF;\n",
              "  }\n",
              "</style>\n",
              "\n",
              "    <script>\n",
              "      async function quickchart(key) {\n",
              "        const containerElement = document.querySelector('#' + key);\n",
              "        const charts = await google.colab.kernel.invokeFunction(\n",
              "            'suggestCharts', [key], {});\n",
              "      }\n",
              "    </script>\n",
              "\n",
              "      <script>\n",
              "\n",
              "function displayQuickchartButton(domScope) {\n",
              "  let quickchartButtonEl =\n",
              "    domScope.querySelector('#df-f22f9cf5-5e58-4458-a37e-10f46479883b button.colab-df-quickchart');\n",
              "  quickchartButtonEl.style.display =\n",
              "    google.colab.kernel.accessAllowed ? 'block' : 'none';\n",
              "}\n",
              "\n",
              "        displayQuickchartButton(document);\n",
              "      </script>\n",
              "      <style>\n",
              "    .colab-df-container {\n",
              "      display:flex;\n",
              "      flex-wrap:wrap;\n",
              "      gap: 12px;\n",
              "    }\n",
              "\n",
              "    .colab-df-convert {\n",
              "      background-color: #E8F0FE;\n",
              "      border: none;\n",
              "      border-radius: 50%;\n",
              "      cursor: pointer;\n",
              "      display: none;\n",
              "      fill: #1967D2;\n",
              "      height: 32px;\n",
              "      padding: 0 0 0 0;\n",
              "      width: 32px;\n",
              "    }\n",
              "\n",
              "    .colab-df-convert:hover {\n",
              "      background-color: #E2EBFA;\n",
              "      box-shadow: 0px 1px 2px rgba(60, 64, 67, 0.3), 0px 1px 3px 1px rgba(60, 64, 67, 0.15);\n",
              "      fill: #174EA6;\n",
              "    }\n",
              "\n",
              "    [theme=dark] .colab-df-convert {\n",
              "      background-color: #3B4455;\n",
              "      fill: #D2E3FC;\n",
              "    }\n",
              "\n",
              "    [theme=dark] .colab-df-convert:hover {\n",
              "      background-color: #434B5C;\n",
              "      box-shadow: 0px 1px 3px 1px rgba(0, 0, 0, 0.15);\n",
              "      filter: drop-shadow(0px 1px 2px rgba(0, 0, 0, 0.3));\n",
              "      fill: #FFFFFF;\n",
              "    }\n",
              "  </style>\n",
              "\n",
              "      <script>\n",
              "        const buttonEl =\n",
              "          document.querySelector('#df-9bd74aa5-2fbd-46e0-bdc3-45927c788297 button.colab-df-convert');\n",
              "        buttonEl.style.display =\n",
              "          google.colab.kernel.accessAllowed ? 'block' : 'none';\n",
              "\n",
              "        async function convertToInteractive(key) {\n",
              "          const element = document.querySelector('#df-9bd74aa5-2fbd-46e0-bdc3-45927c788297');\n",
              "          const dataTable =\n",
              "            await google.colab.kernel.invokeFunction('convertToInteractive',\n",
              "                                                     [key], {});\n",
              "          if (!dataTable) return;\n",
              "\n",
              "          const docLinkHtml = 'Like what you see? Visit the ' +\n",
              "            '<a target=\"_blank\" href=https://colab.research.google.com/notebooks/data_table.ipynb>data table notebook</a>'\n",
              "            + ' to learn more about interactive tables.';\n",
              "          element.innerHTML = '';\n",
              "          dataTable['output_type'] = 'display_data';\n",
              "          await google.colab.output.renderOutput(dataTable, element);\n",
              "          const docLink = document.createElement('div');\n",
              "          docLink.innerHTML = docLinkHtml;\n",
              "          element.appendChild(docLink);\n",
              "        }\n",
              "      </script>\n",
              "    </div>\n",
              "  </div>\n"
            ]
          },
          "metadata": {},
          "execution_count": 5
        }
      ],
      "source": [
        "test = pd.read_csv(\"/content/drive/MyDrive/skripsi/teks/Hasil Preprocessing/hasil_preprocessing_dataset testing 24 juli.csv\")\n",
        "test.head()"
      ]
    },
    {
      "cell_type": "markdown",
      "metadata": {
        "id": "KkEGA9mQOQHD"
      },
      "source": [
        "\n",
        "df itu data train, test itu data uj"
      ]
    },
    {
      "cell_type": "code",
      "execution_count": null,
      "metadata": {
        "id": "u93dGrj6hfcG"
      },
      "outputs": [],
      "source": [
        "X_train = np.array(df['clean_text'])\n",
        "y_train = np.array(df['label'])\n",
        "X_test = np.array(test['clean_text'])\n",
        "y_test = np.array(test['label'])"
      ]
    },
    {
      "cell_type": "code",
      "execution_count": null,
      "metadata": {
        "id": "c4oTSLAfhNJH"
      },
      "outputs": [],
      "source": [
        "df_train = pd.DataFrame(X_train)\n",
        "df_train.to_csv('/content/drive/MyDrive/skripsi/teks/X_train_baru_2.csv', index=False)"
      ]
    },
    {
      "cell_type": "markdown",
      "metadata": {
        "id": "sBBL-n0prQG-"
      },
      "source": [
        "# Pembobotan TF-IDF"
      ]
    },
    {
      "cell_type": "code",
      "execution_count": null,
      "metadata": {
        "id": "caF2k4GJz4c-"
      },
      "outputs": [],
      "source": [
        "X_train = np.array(df['clean_text'].values.astype('U'))\n",
        "y_train = np.array(df['label'])\n",
        "X_test = np.array(test['clean_text'].values.astype('U'))\n",
        "y_test = np.array(test['label'])"
      ]
    },
    {
      "cell_type": "code",
      "execution_count": null,
      "metadata": {
        "id": "QtCA-hMzrSFf"
      },
      "outputs": [],
      "source": [
        "# Model pembobotan TF-IDF\n",
        "tfidf_vectorizer = TfidfVectorizer(use_idf = True, encoding='latin-1').fit(X_train)\n",
        "\n",
        "X_train_tfidf = tfidf_vectorizer.fit_transform(X_train).toarray()\n",
        "\n",
        "X_test_tfidf = tfidf_vectorizer.transform(X_test).toarray()"
      ]
    },
    {
      "cell_type": "markdown",
      "metadata": {
        "id": "c17f3i8crhH_"
      },
      "source": [
        "# Model Klasifikasi :\n",
        "\n",
        "\n",
        "*   Multinomial Naive Bayes\n",
        "*   SVM\n",
        "*   K-NN\n",
        "\n"
      ]
    },
    {
      "cell_type": "markdown",
      "metadata": {
        "id": "fp3ETFNJr2kP"
      },
      "source": [
        "Multinomial Naive Bayes (MNB)"
      ]
    },
    {
      "cell_type": "code",
      "execution_count": null,
      "metadata": {
        "colab": {
          "base_uri": "https://localhost:8080/"
        },
        "id": "sgNijS8Lr6ie",
        "outputId": "1f2c1446-7bbf-4883-d2df-f4424f483cc5"
      },
      "outputs": [
        {
          "output_type": "stream",
          "name": "stdout",
          "text": [
            "Parameter terbaik MNB:  {'alpha': 0.01, 'fit_prior': True}\n"
          ]
        }
      ],
      "source": [
        "# MNB\n",
        "clf_mnb = MultinomialNB()\n",
        "param_grid = {\n",
        "  'alpha': [0.01, 0.1, 0.25, 0.5, 0.75, 1.0],\n",
        "  'fit_prior': [True, False]\n",
        "}\n",
        "clf1 = GridSearchCV(clf_mnb, param_grid=param_grid)\n",
        "clf1.fit(X_train_tfidf, y_train)\n",
        "print(\"Parameter terbaik MNB: \", clf1.best_params_)"
      ]
    },
    {
      "cell_type": "code",
      "execution_count": null,
      "metadata": {
        "colab": {
          "base_uri": "https://localhost:8080/"
        },
        "id": "tFQthq_lsJhb",
        "outputId": "39c5f721-5809-4389-9da4-1a2bcf6ece84"
      },
      "outputs": [
        {
          "output_type": "stream",
          "name": "stdout",
          "text": [
            "              precision    recall  f1-score   support\n",
            "\n",
            "           1       0.91      0.83      0.87        12\n",
            "           2       0.92      0.92      0.92        12\n",
            "           3       1.00      0.57      0.73         7\n",
            "           4       0.73      0.92      0.81        12\n",
            "           5       0.85      0.92      0.88        12\n",
            "\n",
            "    accuracy                           0.85        55\n",
            "   macro avg       0.88      0.83      0.84        55\n",
            "weighted avg       0.87      0.85      0.85        55\n",
            "\n"
          ]
        }
      ],
      "source": [
        "clf_mnb = MultinomialNB(alpha= 0.01, fit_prior= True)\n",
        "clf_mnb.fit(X_train_tfidf, y_train)\n",
        "\n",
        "y_pred_mnb = clf_mnb.predict(X_test_tfidf)\n",
        "\n",
        "print(metrics.classification_report(y_test, y_pred_mnb))"
      ]
    },
    {
      "cell_type": "code",
      "execution_count": null,
      "metadata": {
        "id": "JkznOdsnsVpj",
        "colab": {
          "base_uri": "https://localhost:8080/",
          "height": 541
        },
        "outputId": "26d1a9c8-4279-4e1b-aa74-80ae88a0e5ed"
      },
      "outputs": [
        {
          "output_type": "stream",
          "name": "stdout",
          "text": [
            "[[10  1  0  0  1]\n",
            " [ 0 11  0  0  1]\n",
            " [ 0  0  4  3  0]\n",
            " [ 1  0  0 11  0]\n",
            " [ 0  0  0  1 11]]\n"
          ]
        },
        {
          "output_type": "display_data",
          "data": {
            "text/plain": [
              "<Figure size 640x480 with 2 Axes>"
            ],
            "image/png": "[encoded data removed]"
          },
          "metadata": {}
        }
      ],
      "source": [
        "from sklearn.metrics import confusion_matrix, ConfusionMatrixDisplay\n",
        "cm_mnb = confusion_matrix(y_test, y_pred_mnb)\n",
        "print(cm_mnb)\n",
        "disp = ConfusionMatrixDisplay(confusion_matrix=cm_mnb)\n",
        "disp.plot()\n",
        "plt.show()"
      ]
    },
    {
      "cell_type": "markdown",
      "metadata": {
        "id": "MnbeLgXwsYfo"
      },
      "source": [
        "SVM"
      ]
    },
    {
      "cell_type": "code",
      "execution_count": null,
      "metadata": {
        "id": "Q58qsMlOsZSn",
        "colab": {
          "base_uri": "https://localhost:8080/"
        },
        "outputId": "8541dc7a-7c04-4e4c-8605-3c29ae55661f"
      },
      "outputs": [
        {
          "output_type": "stream",
          "name": "stdout",
          "text": [
            "Parameter terbaik SVM:  {'C': 10, 'degree': 1, 'gamma': 'scale', 'kernel': 'sigmoid'}\n"
          ]
        }
      ],
      "source": [
        "clf_svm_svc = svm.SVC()\n",
        "grid_params_ = {\n",
        "    'C': [0.1, 1, 10, 100, 1000],\n",
        "    'kernel': ['linear', 'rbf', 'poly', 'sigmoid'],\n",
        "    'degree': [1, 2, 3, 4, 5],\n",
        "    'gamma': ['scale', 'auto']\n",
        "}\n",
        "\n",
        "clf_svm = GridSearchCV(estimator=clf_svm_svc, param_grid=grid_params_, cv=5)\n",
        "clf_svm.fit(X_train_tfidf, y_train)\n",
        "\n",
        "print(\"Parameter terbaik SVM: \", clf_svm.best_params_)"
      ]
    },
    {
      "cell_type": "code",
      "execution_count": null,
      "metadata": {
        "colab": {
          "base_uri": "https://localhost:8080/"
        },
        "id": "GMDPsO4lsfgo",
        "outputId": "102ac50f-bd04-46e9-db05-ad992e76f8c6"
      },
      "outputs": [
        {
          "output_type": "stream",
          "name": "stdout",
          "text": [
            "              precision    recall  f1-score   support\n",
            "\n",
            "           1       0.89      0.67      0.76        12\n",
            "           2       0.92      0.92      0.92        12\n",
            "           3       1.00      0.43      0.60         7\n",
            "           4       0.73      0.92      0.81        12\n",
            "           5       0.75      1.00      0.86        12\n",
            "\n",
            "    accuracy                           0.82        55\n",
            "   macro avg       0.86      0.79      0.79        55\n",
            "weighted avg       0.84      0.82      0.81        55\n",
            "\n"
          ]
        }
      ],
      "source": [
        "clf_svm_svc = svm.SVC(C = 10, kernel = 'sigmoid', degree = 1, gamma = 'scale')\n",
        "clf_svm_svc.fit(X_train_tfidf, y_train)\n",
        "\n",
        "y_pred_svm = clf_svm_svc.predict(X_test_tfidf)\n",
        "\n",
        "print(metrics.classification_report(y_test, y_pred_svm))"
      ]
    },
    {
      "cell_type": "code",
      "execution_count": null,
      "metadata": {
        "id": "lrppKMeisiVM",
        "colab": {
          "base_uri": "https://localhost:8080/",
          "height": 449
        },
        "outputId": "853a8324-5d32-4faf-b55e-ac45cc4382bc"
      },
      "outputs": [
        {
          "output_type": "display_data",
          "data": {
            "text/plain": [
              "<Figure size 640x480 with 2 Axes>"
            ],
            "image/png": "[encoded data removed]"
          },
          "metadata": {}
        }
      ],
      "source": [
        "cm_svm = confusion_matrix(y_test, y_pred_svm)\n",
        "disp = ConfusionMatrixDisplay(confusion_matrix=cm_svm)\n",
        "disp.plot()\n",
        "plt.show()"
      ]
    },
    {
      "cell_type": "markdown",
      "metadata": {
        "id": "VVQ9lA4dr1Ei"
      },
      "source": [
        "K-NN"
      ]
    },
    {
      "cell_type": "code",
      "execution_count": null,
      "metadata": {
        "id": "HY5HPztDrqQN",
        "colab": {
          "base_uri": "https://localhost:8080/"
        },
        "outputId": "24ac5935-b182-4910-91ec-1c6e83fbe1ff"
      },
      "outputs": [
        {
          "output_type": "stream",
          "name": "stdout",
          "text": [
            "Parameter terbaik K-NN:  {'metric': 'euclidean', 'n_neighbors': 3, 'weights': 'distance'}\n"
          ]
        }
      ],
      "source": [
        "# K-NN\n",
        "clf_knn = KNeighborsClassifier()\n",
        "grid_params = {\n",
        "    'n_neighbors': [1,2,3,4,5],\n",
        "    'weights': ['uniform', 'distance'],\n",
        "    'metric' : ['euclidean', 'minkowski']\n",
        "}\n",
        "clf = GridSearchCV(clf_knn, param_grid=grid_params)\n",
        "clf.fit(X_train_tfidf, y_train)\n",
        "print(\"Parameter terbaik K-NN: \", clf.best_params_)"
      ]
    },
    {
      "cell_type": "code",
      "execution_count": null,
      "metadata": {
        "colab": {
          "base_uri": "https://localhost:8080/"
        },
        "id": "KQRfrCFzrw3X",
        "outputId": "2fa9a18b-838f-4dd3-c5dc-bb1c07e097f9"
      },
      "outputs": [
        {
          "output_type": "stream",
          "name": "stdout",
          "text": [
            "              precision    recall  f1-score   support\n",
            "\n",
            "           1       0.64      0.75      0.69        12\n",
            "           2       0.92      0.92      0.92        12\n",
            "           3       1.00      0.57      0.73         7\n",
            "           4       0.88      0.58      0.70        12\n",
            "           5       0.71      1.00      0.83        12\n",
            "\n",
            "    accuracy                           0.78        55\n",
            "   macro avg       0.83      0.76      0.77        55\n",
            "weighted avg       0.81      0.78      0.78        55\n",
            "\n"
          ]
        }
      ],
      "source": [
        "clf_knn = KNeighborsClassifier(n_neighbors=3, weights = 'distance', metric='euclidean')\n",
        "clf_knn.fit(X_train_tfidf, y_train)\n",
        "\n",
        "y_pred_knn = clf_knn.predict(X_test_tfidf)\n",
        "# print(y_pred_knn)\n",
        "\n",
        "print(metrics.classification_report(y_test, y_pred_knn))"
      ]
    },
    {
      "cell_type": "code",
      "execution_count": null,
      "metadata": {
        "id": "rog730WueteS",
        "colab": {
          "base_uri": "https://localhost:8080/",
          "height": 449
        },
        "outputId": "0e16e141-ffe1-4bc8-9c68-50db870d09bf"
      },
      "outputs": [
        {
          "output_type": "display_data",
          "data": {
            "text/plain": [
              "<Figure size 640x480 with 2 Axes>"
            ],
            "image/png": "[encoded data removed]"
          },
          "metadata": {}
        }
      ],
      "source": [
        "cm_knn = confusion_matrix(y_test, y_pred_knn)\n",
        "disp = ConfusionMatrixDisplay(confusion_matrix=cm_knn)\n",
        "disp.plot()\n",
        "plt.show()"
      ]
    },
    {
      "cell_type": "markdown",
      "metadata": {
        "id": "rZX0be3wtAoV"
      },
      "source": [
        "Cross Validation"
      ]
    },
    {
      "cell_type": "code",
      "execution_count": null,
      "metadata": {
        "id": "hSBrLf3Lr0RN",
        "colab": {
          "base_uri": "https://localhost:8080/"
        },
        "outputId": "1463e754-e8a0-4246-d203-e96cbd1b15d8"
      },
      "outputs": [
        {
          "output_type": "stream",
          "name": "stdout",
          "text": [
            "              precision    recall  f1-score   support\n",
            "\n",
            "           1       0.89      0.67      0.76        12\n",
            "           2       0.92      0.92      0.92        12\n",
            "           3       1.00      0.43      0.60         7\n",
            "           4       0.73      0.92      0.81        12\n",
            "           5       0.75      1.00      0.86        12\n",
            "\n",
            "    accuracy                           0.82        55\n",
            "   macro avg       0.86      0.79      0.79        55\n",
            "weighted avg       0.84      0.82      0.81        55\n",
            "\n",
            "              precision    recall  f1-score   support\n",
            "\n",
            "           1       0.90      0.75      0.82        12\n",
            "           2       0.92      0.92      0.92        12\n",
            "           3       1.00      0.57      0.73         7\n",
            "           4       0.69      0.92      0.79        12\n",
            "           5       0.85      0.92      0.88        12\n",
            "\n",
            "    accuracy                           0.84        55\n",
            "   macro avg       0.87      0.81      0.83        55\n",
            "weighted avg       0.86      0.84      0.83        55\n",
            "\n",
            "              precision    recall  f1-score   support\n",
            "\n",
            "           1       0.69      0.75      0.72        12\n",
            "           2       0.92      0.92      0.92        12\n",
            "           3       1.00      0.57      0.73         7\n",
            "           4       0.67      0.67      0.67        12\n",
            "           5       0.79      0.92      0.85        12\n",
            "\n",
            "    accuracy                           0.78        55\n",
            "   macro avg       0.81      0.76      0.78        55\n",
            "weighted avg       0.80      0.78      0.78        55\n",
            "\n"
          ]
        }
      ],
      "source": [
        "models = [svm.SVC(C = 10, kernel = 'sigmoid', degree = 1, gamma = 'scale'), MultinomialNB(alpha= 0.01, fit_prior= False), KNeighborsClassifier(n_neighbors=5, weights = 'uniform', metric='euclidean')]\n",
        "entries = []\n",
        "cv = ShuffleSplit(n_splits=5, test_size=0.2, random_state=0)\n",
        "for model in models:\n",
        "    model_name = model.__class__.__name__\n",
        "    accuracies = cross_val_score(model, X_train_tfidf, y_train, scoring='accuracy', cv=cv)\n",
        "    for fold_idx, accuracy in enumerate(accuracies):\n",
        "      entries.append((model_name, fold_idx, accuracy))\n",
        "\n",
        "    model.fit(X_train_tfidf, y_train)\n",
        "    y_pred = model.predict(X_test_tfidf)\n",
        "    print(metrics.classification_report(y_test, y_pred))"
      ]
    },
    {
      "cell_type": "markdown",
      "metadata": {
        "id": "TA67z70wZUvf"
      },
      "source": [
        "## save model"
      ]
    },
    {
      "cell_type": "code",
      "execution_count": null,
      "metadata": {
        "id": "IoathZwvXOow"
      },
      "outputs": [],
      "source": [
        "import joblib"
      ]
    },
    {
      "cell_type": "code",
      "execution_count": null,
      "metadata": {
        "id": "NA4yK_RtdJ4_"
      },
      "outputs": [],
      "source": [
        "model_mnb = 'finalized_model.sav'\n",
        "joblib.dump(clf_mnb, 'model_mnb_baru')"
      ]
    },
    {
      "cell_type": "code",
      "execution_count": null,
      "metadata": {
        "id": "3tX0bSzVe0pI"
      },
      "outputs": [],
      "source": [
        "from google.colab import files\n",
        "files.download('model_mnb_baru')"
      ]
    }
  ],
  "metadata": {
    "colab": {
      "provenance": []
    },
    "kernelspec": {
      "display_name": "Python 3",
      "name": "python3"
    },
    "language_info": {
      "name": "python"
    }
  },
  "nbformat": 4,
  "nbformat_minor": 0
}