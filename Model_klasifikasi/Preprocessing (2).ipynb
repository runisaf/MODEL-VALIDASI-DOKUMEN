{
  "cells": [
    {
      "cell_type": "code",
      "execution_count": null,
      "metadata": {
        "id": "zCoMOeQnYxJW"
      },
      "outputs": [],
      "source": [
        "import pandas as pd\n",
        "import numpy as np\n",
        "import seaborn as sns\n",
        "import re, string\n",
        "import matplotlib.pyplot as plt\n",
        "from nltk.tokenize import word_tokenize\n",
        "import nltk\n",
        "import itertools"
      ]
    },
    {
      "cell_type": "markdown",
      "metadata": {
        "id": "22-RHoAwZKrs"
      },
      "source": [
        "# dataset"
      ]
    },
    {
      "cell_type": "code",
      "execution_count": null,
      "metadata": {
        "colab": {
          "base_uri": "https://localhost:8080/"
        },
        "id": "tZFTgmI4O-WZ",
        "outputId": "7016be15-064c-47f3-94a9-e80f63aa4c2f"
      },
      "outputs": [
        {
          "output_type": "stream",
          "name": "stdout",
          "text": [
            "Mounted at /content/drive\n"
          ]
        }
      ],
      "source": [
        "from google.colab import drive\n",
        "drive.mount(\"/content/drive\", force_remount = True)"
      ]
    },
    {
      "cell_type": "code",
      "execution_count": null,
      "metadata": {
        "id": "bSzHInQXPG6_"
      },
      "outputs": [],
      "source": [
        "df = pd.read_csv(\"/content/drive/MyDrive/skripsi/teks/Dataset/dataset 5 kategori -revisi/data training 5 kategori.csv\", encoding='windows-1252')"
      ]
    },
    {
      "cell_type": "markdown",
      "metadata": {
        "id": "F4aVNKVKZvzO"
      },
      "source": [
        "Preprocessing text"
      ]
    },
    {
      "cell_type": "code",
      "execution_count": null,
      "metadata": {
        "id": "aZtfNLkqZyi4"
      },
      "outputs": [],
      "source": [
        "# CLEANING TEXT\n",
        "def casefolding(text):\n",
        "  text = text.replace(\"/\\-\", ' ')\n",
        "  text = text.lower()\n",
        "  text = text.replace(\"_<.*?/\\|-_:^()>\", ' ')\n",
        "  text = text.strip()\n",
        "  text = re.compile('<.*?/\\|-_:^()>').sub('', text)\n",
        "  text = text.translate(str.maketrans(\"\",\"\",string.punctuation))\n",
        "  text = re.sub(r\"\\d+\",\"\", text)\n",
        "  text = re.sub('\\+s', ' ', text)\n",
        "  text = re.sub(r'\\s+', ' ', text)\n",
        "  text = text.replace(\"\\n\", ' ')\n",
        "  text = text.replace(\"/\\-\", ' ')\n",
        "\n",
        "  return text"
      ]
    },
    {
      "cell_type": "code",
      "execution_count": null,
      "metadata": {
        "id": "S1lc5uRYDxK3"
      },
      "outputs": [],
      "source": [
        "# STOPWORD REMOVAL dan TOKENISASI\n",
        "from spacy.lang.id import Indonesian\n",
        "import spacy\n",
        "\n",
        "def tokenisasi(text):\n",
        "    tokens = text.split(\" \")\n",
        "    return tokens\n",
        "\n",
        "def stopword_elim(text):\n",
        "    nlp = Indonesian()\n",
        "    nlp = spacy.blank('id')\n",
        "    stopwords = nlp.Defaults.stop_words\n",
        "    tokens = tokenisasi(text)\n",
        "    tokens_nostopword = [w for w in tokens if not w in stopwords]\n",
        "    return (\" \").join(tokens_nostopword)"
      ]
    },
    {
      "cell_type": "code",
      "execution_count": null,
      "metadata": {
        "id": "HaF4ddlZPcsP"
      },
      "outputs": [],
      "source": [
        "def preprocess(string):\n",
        "  return stopword_elim(casefolding(string))"
      ]
    },
    {
      "cell_type": "code",
      "execution_count": null,
      "metadata": {
        "id": "6kDc_JMQPjI1"
      },
      "outputs": [],
      "source": [
        "df['clean_text'] = df['teks'].apply(lambda x: preprocess(x))"
      ]
    },
    {
      "cell_type": "markdown",
      "metadata": {
        "id": "5imRMvkpVhbK"
      },
      "source": [
        "simpan hasi preprocessing"
      ]
    },
    {
      "cell_type": "code",
      "execution_count": null,
      "metadata": {
        "id": "Nmk5oyTrQLM3"
      },
      "outputs": [],
      "source": [
        "df.to_csv(\"/content/drive/MyDrive/skripsi/teks/hasil_preprocessing_dataset 5 kategori .csv\", index=False, header=True)"
      ]
    }
  ],
  "metadata": {
    "colab": {
      "provenance": []
    },
    "kernelspec": {
      "display_name": "Python 3",
      "name": "python3"
    },
    "language_info": {
      "name": "python"
    }
  },
  "nbformat": 4,
  "nbformat_minor": 0
}