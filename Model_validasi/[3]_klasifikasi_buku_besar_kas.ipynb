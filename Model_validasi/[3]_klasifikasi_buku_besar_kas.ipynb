{
  "nbformat": 4,
  "nbformat_minor": 0,
  "metadata": {
    "colab": {
      "provenance": []
    },
    "kernelspec": {
      "name": "python3",
      "display_name": "Python 3"
    },
    "language_info": {
      "name": "python"
    }
  },
  "cells": [
    {
      "cell_type": "markdown",
      "source": [
        "\n",
        "## Import Library\n"
      ],
      "metadata": {
        "id": "raRPcB0q4DW8"
      }
    },
    {
      "cell_type": "markdown",
      "source": [
        "meghubungkan ke google drive"
      ],
      "metadata": {
        "id": "1Kx16agh4Hcz"
      }
    },
    {
      "cell_type": "code",
      "source": [
        "from google.colab import drive\n",
        "drive.mount(\"/content/drive\", force_remount = True)"
      ],
      "metadata": {
        "id": "IwPVeet34HAL",
        "colab": {
          "base_uri": "https://localhost:8080/"
        },
        "outputId": "43c78c63-3615-4e73-8cb4-5778aadb89e9"
      },
      "execution_count": 1,
      "outputs": [
        {
          "output_type": "stream",
          "name": "stdout",
          "text": [
            "Mounted at /content/drive\n"
          ]
        }
      ]
    },
    {
      "cell_type": "code",
      "execution_count": 2,
      "metadata": {
        "id": "tIc8N60L34cF"
      },
      "outputs": [],
      "source": [
        "import pandas as pd\n",
        "import numpy as np\n",
        "\n",
        "# preprocessing\n",
        "import re, string\n",
        "from spacy.lang.id import Indonesian\n",
        "import spacy\n",
        "\n",
        "# Prediksi Klasifikasi\n",
        "from sklearn.feature_extraction.text import TfidfTransformer, TfidfVectorizer\n",
        "import joblib\n",
        "\n",
        "# Deteksi Objek\n",
        "import os\n",
        "import cv2\n",
        "import torch\n",
        "from PIL import Image"
      ]
    },
    {
      "cell_type": "markdown",
      "source": [
        "## Dataset"
      ],
      "metadata": {
        "id": "yaJuSy194I-r"
      }
    },
    {
      "cell_type": "code",
      "source": [
        "df_train = pd.read_csv(\"/content/drive/MyDrive/skripsi/teks/X_train_baru_2.csv\")"
      ],
      "metadata": {
        "id": "PRRl3ztr4K4z"
      },
      "execution_count": 3,
      "outputs": []
    },
    {
      "cell_type": "code",
      "source": [
        "dfJson = pd.read_json(\"/content/drive/MyDrive/skripsi/test/JSON/Buku Besar Kas/08_Bukubesarkas_Agustus.json\")\n",
        "\n",
        "dfJsonT = dfJson.transpose()"
      ],
      "metadata": {
        "id": "xyfJUAZ54L87"
      },
      "execution_count": 4,
      "outputs": []
    },
    {
      "cell_type": "code",
      "source": [
        "dfJsonT"
      ],
      "metadata": {
        "id": "edEZTjbghwe2",
        "colab": {
          "base_uri": "https://localhost:8080/",
          "height": 551
        },
        "outputId": "7a8933ca-7928-40c5-b358-b4a4558b45c4"
      },
      "execution_count": 5,
      "outputs": [
        {
          "output_type": "execute_result",
          "data": {
            "text/plain": [
              "                                                      text  \\\n",
              "page_1   BADAN PUSAT STATISTIK\\nPAPUA BARAT\\nBUKU BESAR...   \n",
              "page_10  BADAN PUSAT STATISTIK\\nPAPUA BARAT\\nKdL :\\nBUK...   \n",
              "page_11  BADAN PUSAT STATISTIK\\nPAPUA BARAT\\nKdL :\\nBUK...   \n",
              "page_12  BADAN PUSAT STATISTIK\\nPAPUA BARAT\\nKdL :\\nBUK...   \n",
              "page_13  BADAN PUSAT STATISTIK\\nPAPUA BARAT\\nKdL :\\nBUK...   \n",
              "page_14  BADAN PUSAT STATISTIK\\nPAPUA BARAT\\nKdL :\\nBUK...   \n",
              "page_15  BADAN PUSAT STATISTIK\\nPAPUA BARAT\\nKdL :\\nBUK...   \n",
              "page_16  BADAN PUSAT STATISTIK\\nPAPUA BARAT\\nKdL :\\nBUK...   \n",
              "page_2   BADAN PUSAT STATISTIK\\nPAPUA BARAT\\nBUKU BESAR...   \n",
              "page_3   BADAN PUSAT STATISTIK\\nPAPUA BARAT\\nKdL :\\nBUK...   \n",
              "page_4   BADAN PUSAT STATISTIK\\nPAPUA BARAT\\nKdL :\\nBUK...   \n",
              "page_5   BADAN PUSAT STATISTIK\\nPAPUA BARAT\\nKdL :\\nBUK...   \n",
              "page_6   BADAN PUSAT STATISTIK\\nPAPUA BARAT\\nKdL :\\nBUK...   \n",
              "page_7   BADAN PUSAT STATISTIK\\nPAPUA BARAT\\nKdL :\\nBUK...   \n",
              "page_8   BADAN PUSAT STATISTIK\\nPAPUA BARAT\\nKdL :\\nBUK...   \n",
              "page_9   BADAN PUSAT STATISTIK\\nPAPUA BARAT\\nKdL :\\nBUK...   \n",
              "\n",
              "                                                 imagePath  \n",
              "page_1   images\\Buku Besar Kas\\img11\\08_Bukubesarkas_Ag...  \n",
              "page_10  images\\Buku Besar Kas\\img11\\08_Bukubesarkas_Ag...  \n",
              "page_11  images\\Buku Besar Kas\\img11\\08_Bukubesarkas_Ag...  \n",
              "page_12  images\\Buku Besar Kas\\img11\\08_Bukubesarkas_Ag...  \n",
              "page_13  images\\Buku Besar Kas\\img11\\08_Bukubesarkas_Ag...  \n",
              "page_14  images\\Buku Besar Kas\\img11\\08_Bukubesarkas_Ag...  \n",
              "page_15  images\\Buku Besar Kas\\img11\\08_Bukubesarkas_Ag...  \n",
              "page_16  images\\Buku Besar Kas\\img11\\08_Bukubesarkas_Ag...  \n",
              "page_2   images\\Buku Besar Kas\\img11\\08_Bukubesarkas_Ag...  \n",
              "page_3   images\\Buku Besar Kas\\img11\\08_Bukubesarkas_Ag...  \n",
              "page_4   images\\Buku Besar Kas\\img11\\08_Bukubesarkas_Ag...  \n",
              "page_5   images\\Buku Besar Kas\\img11\\08_Bukubesarkas_Ag...  \n",
              "page_6   images\\Buku Besar Kas\\img11\\08_Bukubesarkas_Ag...  \n",
              "page_7   images\\Buku Besar Kas\\img11\\08_Bukubesarkas_Ag...  \n",
              "page_8   images\\Buku Besar Kas\\img11\\08_Bukubesarkas_Ag...  \n",
              "page_9   images\\Buku Besar Kas\\img11\\08_Bukubesarkas_Ag...  "
            ],
            "text/html": [
              "\n",
              "\n",
              "  <div id=\"df-6a29dfc1-d2d7-4258-9f28-bc4f65486317\">\n",
              "    <div class=\"colab-df-container\">\n",
              "      <div>\n",
              "<style scoped>\n",
              "    .dataframe tbody tr th:only-of-type {\n",
              "        vertical-align: middle;\n",
              "    }\n",
              "\n",
              "    .dataframe tbody tr th {\n",
              "        vertical-align: top;\n",
              "    }\n",
              "\n",
              "    .dataframe thead th {\n",
              "        text-align: right;\n",
              "    }\n",
              "</style>\n",
              "<table border=\"1\" class=\"dataframe\">\n",
              "  <thead>\n",
              "    <tr style=\"text-align: right;\">\n",
              "      <th></th>\n",
              "      <th>text</th>\n",
              "      <th>imagePath</th>\n",
              "    </tr>\n",
              "  </thead>\n",
              "  <tbody>\n",
              "    <tr>\n",
              "      <th>page_1</th>\n",
              "      <td>BADAN PUSAT STATISTIK\\nPAPUA BARAT\\nBUKU BESAR...</td>\n",
              "      <td>images\\Buku Besar Kas\\img11\\08_Bukubesarkas_Ag...</td>\n",
              "    </tr>\n",
              "    <tr>\n",
              "      <th>page_10</th>\n",
              "      <td>BADAN PUSAT STATISTIK\\nPAPUA BARAT\\nKdL :\\nBUK...</td>\n",
              "      <td>images\\Buku Besar Kas\\img11\\08_Bukubesarkas_Ag...</td>\n",
              "    </tr>\n",
              "    <tr>\n",
              "      <th>page_11</th>\n",
              "      <td>BADAN PUSAT STATISTIK\\nPAPUA BARAT\\nKdL :\\nBUK...</td>\n",
              "      <td>images\\Buku Besar Kas\\img11\\08_Bukubesarkas_Ag...</td>\n",
              "    </tr>\n",
              "    <tr>\n",
              "      <th>page_12</th>\n",
              "      <td>BADAN PUSAT STATISTIK\\nPAPUA BARAT\\nKdL :\\nBUK...</td>\n",
              "      <td>images\\Buku Besar Kas\\img11\\08_Bukubesarkas_Ag...</td>\n",
              "    </tr>\n",
              "    <tr>\n",
              "      <th>page_13</th>\n",
              "      <td>BADAN PUSAT STATISTIK\\nPAPUA BARAT\\nKdL :\\nBUK...</td>\n",
              "      <td>images\\Buku Besar Kas\\img11\\08_Bukubesarkas_Ag...</td>\n",
              "    </tr>\n",
              "    <tr>\n",
              "      <th>page_14</th>\n",
              "      <td>BADAN PUSAT STATISTIK\\nPAPUA BARAT\\nKdL :\\nBUK...</td>\n",
              "      <td>images\\Buku Besar Kas\\img11\\08_Bukubesarkas_Ag...</td>\n",
              "    </tr>\n",
              "    <tr>\n",
              "      <th>page_15</th>\n",
              "      <td>BADAN PUSAT STATISTIK\\nPAPUA BARAT\\nKdL :\\nBUK...</td>\n",
              "      <td>images\\Buku Besar Kas\\img11\\08_Bukubesarkas_Ag...</td>\n",
              "    </tr>\n",
              "    <tr>\n",
              "      <th>page_16</th>\n",
              "      <td>BADAN PUSAT STATISTIK\\nPAPUA BARAT\\nKdL :\\nBUK...</td>\n",
              "      <td>images\\Buku Besar Kas\\img11\\08_Bukubesarkas_Ag...</td>\n",
              "    </tr>\n",
              "    <tr>\n",
              "      <th>page_2</th>\n",
              "      <td>BADAN PUSAT STATISTIK\\nPAPUA BARAT\\nBUKU BESAR...</td>\n",
              "      <td>images\\Buku Besar Kas\\img11\\08_Bukubesarkas_Ag...</td>\n",
              "    </tr>\n",
              "    <tr>\n",
              "      <th>page_3</th>\n",
              "      <td>BADAN PUSAT STATISTIK\\nPAPUA BARAT\\nKdL :\\nBUK...</td>\n",
              "      <td>images\\Buku Besar Kas\\img11\\08_Bukubesarkas_Ag...</td>\n",
              "    </tr>\n",
              "    <tr>\n",
              "      <th>page_4</th>\n",
              "      <td>BADAN PUSAT STATISTIK\\nPAPUA BARAT\\nKdL :\\nBUK...</td>\n",
              "      <td>images\\Buku Besar Kas\\img11\\08_Bukubesarkas_Ag...</td>\n",
              "    </tr>\n",
              "    <tr>\n",
              "      <th>page_5</th>\n",
              "      <td>BADAN PUSAT STATISTIK\\nPAPUA BARAT\\nKdL :\\nBUK...</td>\n",
              "      <td>images\\Buku Besar Kas\\img11\\08_Bukubesarkas_Ag...</td>\n",
              "    </tr>\n",
              "    <tr>\n",
              "      <th>page_6</th>\n",
              "      <td>BADAN PUSAT STATISTIK\\nPAPUA BARAT\\nKdL :\\nBUK...</td>\n",
              "      <td>images\\Buku Besar Kas\\img11\\08_Bukubesarkas_Ag...</td>\n",
              "    </tr>\n",
              "    <tr>\n",
              "      <th>page_7</th>\n",
              "      <td>BADAN PUSAT STATISTIK\\nPAPUA BARAT\\nKdL :\\nBUK...</td>\n",
              "      <td>images\\Buku Besar Kas\\img11\\08_Bukubesarkas_Ag...</td>\n",
              "    </tr>\n",
              "    <tr>\n",
              "      <th>page_8</th>\n",
              "      <td>BADAN PUSAT STATISTIK\\nPAPUA BARAT\\nKdL :\\nBUK...</td>\n",
              "      <td>images\\Buku Besar Kas\\img11\\08_Bukubesarkas_Ag...</td>\n",
              "    </tr>\n",
              "    <tr>\n",
              "      <th>page_9</th>\n",
              "      <td>BADAN PUSAT STATISTIK\\nPAPUA BARAT\\nKdL :\\nBUK...</td>\n",
              "      <td>images\\Buku Besar Kas\\img11\\08_Bukubesarkas_Ag...</td>\n",
              "    </tr>\n",
              "  </tbody>\n",
              "</table>\n",
              "</div>\n",
              "      <button class=\"colab-df-convert\" onclick=\"convertToInteractive('df-6a29dfc1-d2d7-4258-9f28-bc4f65486317')\"\n",
              "              title=\"Convert this dataframe to an interactive table.\"\n",
              "              style=\"display:none;\">\n",
              "\n",
              "  <svg xmlns=\"http://www.w3.org/2000/svg\" height=\"24px\"viewBox=\"0 0 24 24\"\n",
              "       width=\"24px\">\n",
              "    <path d=\"M0 0h24v24H0V0z\" fill=\"none\"/>\n",
              "    <path d=\"M18.56 5.44l.94 2.06.94-2.06 2.06-.94-2.06-.94-.94-2.06-.94 2.06-2.06.94zm-11 1L8.5 8.5l.94-2.06 2.06-.94-2.06-.94L8.5 2.5l-.94 2.06-2.06.94zm10 10l.94 2.06.94-2.06 2.06-.94-2.06-.94-.94-2.06-.94 2.06-2.06.94z\"/><path d=\"M17.41 7.96l-1.37-1.37c-.4-.4-.92-.59-1.43-.59-.52 0-1.04.2-1.43.59L10.3 9.45l-7.72 7.72c-.78.78-.78 2.05 0 2.83L4 21.41c.39.39.9.59 1.41.59.51 0 1.02-.2 1.41-.59l7.78-7.78 2.81-2.81c.8-.78.8-2.07 0-2.86zM5.41 20L4 18.59l7.72-7.72 1.47 1.35L5.41 20z\"/>\n",
              "  </svg>\n",
              "      </button>\n",
              "\n",
              "\n",
              "\n",
              "    <div id=\"df-798f235f-c8a0-4992-bbfc-85a95593415c\">\n",
              "      <button class=\"colab-df-quickchart\" onclick=\"quickchart('df-798f235f-c8a0-4992-bbfc-85a95593415c')\"\n",
              "              title=\"Suggest charts.\"\n",
              "              style=\"display:none;\">\n",
              "\n",
              "<svg xmlns=\"http://www.w3.org/2000/svg\" height=\"24px\"viewBox=\"0 0 24 24\"\n",
              "     width=\"24px\">\n",
              "    <g>\n",
              "        <path d=\"M19 3H5c-1.1 0-2 .9-2 2v14c0 1.1.9 2 2 2h14c1.1 0 2-.9 2-2V5c0-1.1-.9-2-2-2zM9 17H7v-7h2v7zm4 0h-2V7h2v10zm4 0h-2v-4h2v4z\"/>\n",
              "    </g>\n",
              "</svg>\n",
              "      </button>\n",
              "    </div>\n",
              "\n",
              "<style>\n",
              "  .colab-df-quickchart {\n",
              "    background-color: #E8F0FE;\n",
              "    border: none;\n",
              "    border-radius: 50%;\n",
              "    cursor: pointer;\n",
              "    display: none;\n",
              "    fill: #1967D2;\n",
              "    height: 32px;\n",
              "    padding: 0 0 0 0;\n",
              "    width: 32px;\n",
              "  }\n",
              "\n",
              "  .colab-df-quickchart:hover {\n",
              "    background-color: #E2EBFA;\n",
              "    box-shadow: 0px 1px 2px rgba(60, 64, 67, 0.3), 0px 1px 3px 1px rgba(60, 64, 67, 0.15);\n",
              "    fill: #174EA6;\n",
              "  }\n",
              "\n",
              "  [theme=dark] .colab-df-quickchart {\n",
              "    background-color: #3B4455;\n",
              "    fill: #D2E3FC;\n",
              "  }\n",
              "\n",
              "  [theme=dark] .colab-df-quickchart:hover {\n",
              "    background-color: #434B5C;\n",
              "    box-shadow: 0px 1px 3px 1px rgba(0, 0, 0, 0.15);\n",
              "    filter: drop-shadow(0px 1px 2px rgba(0, 0, 0, 0.3));\n",
              "    fill: #FFFFFF;\n",
              "  }\n",
              "</style>\n",
              "\n",
              "    <script>\n",
              "      async function quickchart(key) {\n",
              "        const containerElement = document.querySelector('#' + key);\n",
              "        const charts = await google.colab.kernel.invokeFunction(\n",
              "            'suggestCharts', [key], {});\n",
              "      }\n",
              "    </script>\n",
              "\n",
              "      <script>\n",
              "\n",
              "function displayQuickchartButton(domScope) {\n",
              "  let quickchartButtonEl =\n",
              "    domScope.querySelector('#df-798f235f-c8a0-4992-bbfc-85a95593415c button.colab-df-quickchart');\n",
              "  quickchartButtonEl.style.display =\n",
              "    google.colab.kernel.accessAllowed ? 'block' : 'none';\n",
              "}\n",
              "\n",
              "        displayQuickchartButton(document);\n",
              "      </script>\n",
              "      <style>\n",
              "    .colab-df-container {\n",
              "      display:flex;\n",
              "      flex-wrap:wrap;\n",
              "      gap: 12px;\n",
              "    }\n",
              "\n",
              "    .colab-df-convert {\n",
              "      background-color: #E8F0FE;\n",
              "      border: none;\n",
              "      border-radius: 50%;\n",
              "      cursor: pointer;\n",
              "      display: none;\n",
              "      fill: #1967D2;\n",
              "      height: 32px;\n",
              "      padding: 0 0 0 0;\n",
              "      width: 32px;\n",
              "    }\n",
              "\n",
              "    .colab-df-convert:hover {\n",
              "      background-color: #E2EBFA;\n",
              "      box-shadow: 0px 1px 2px rgba(60, 64, 67, 0.3), 0px 1px 3px 1px rgba(60, 64, 67, 0.15);\n",
              "      fill: #174EA6;\n",
              "    }\n",
              "\n",
              "    [theme=dark] .colab-df-convert {\n",
              "      background-color: #3B4455;\n",
              "      fill: #D2E3FC;\n",
              "    }\n",
              "\n",
              "    [theme=dark] .colab-df-convert:hover {\n",
              "      background-color: #434B5C;\n",
              "      box-shadow: 0px 1px 3px 1px rgba(0, 0, 0, 0.15);\n",
              "      filter: drop-shadow(0px 1px 2px rgba(0, 0, 0, 0.3));\n",
              "      fill: #FFFFFF;\n",
              "    }\n",
              "  </style>\n",
              "\n",
              "      <script>\n",
              "        const buttonEl =\n",
              "          document.querySelector('#df-6a29dfc1-d2d7-4258-9f28-bc4f65486317 button.colab-df-convert');\n",
              "        buttonEl.style.display =\n",
              "          google.colab.kernel.accessAllowed ? 'block' : 'none';\n",
              "\n",
              "        async function convertToInteractive(key) {\n",
              "          const element = document.querySelector('#df-6a29dfc1-d2d7-4258-9f28-bc4f65486317');\n",
              "          const dataTable =\n",
              "            await google.colab.kernel.invokeFunction('convertToInteractive',\n",
              "                                                     [key], {});\n",
              "          if (!dataTable) return;\n",
              "\n",
              "          const docLinkHtml = 'Like what you see? Visit the ' +\n",
              "            '<a target=\"_blank\" href=https://colab.research.google.com/notebooks/data_table.ipynb>data table notebook</a>'\n",
              "            + ' to learn more about interactive tables.';\n",
              "          element.innerHTML = '';\n",
              "          dataTable['output_type'] = 'display_data';\n",
              "          await google.colab.output.renderOutput(dataTable, element);\n",
              "          const docLink = document.createElement('div');\n",
              "          docLink.innerHTML = docLinkHtml;\n",
              "          element.appendChild(docLink);\n",
              "        }\n",
              "      </script>\n",
              "    </div>\n",
              "  </div>\n"
            ]
          },
          "metadata": {},
          "execution_count": 5
        }
      ]
    },
    {
      "cell_type": "code",
      "source": [
        "# menggabungkan beberapa halaman pada dokumen menjadi satu baris dataframe\n",
        "dfJsonBaru = ''.join(dfJsonT.text)\n",
        "dt = {'teks' : [dfJsonBaru]}\n",
        "data = pd.DataFrame(dt)"
      ],
      "metadata": {
        "id": "2GtEkGwA4MSr"
      },
      "execution_count": 6,
      "outputs": []
    },
    {
      "cell_type": "code",
      "source": [
        "data"
      ],
      "metadata": {
        "colab": {
          "base_uri": "https://localhost:8080/",
          "height": 81
        },
        "id": "nIjwKcA7w5Fd",
        "outputId": "af16dce4-13b6-4718-abfc-84c0ab0402e7"
      },
      "execution_count": 7,
      "outputs": [
        {
          "output_type": "execute_result",
          "data": {
            "text/plain": [
              "                                                teks\n",
              "0  BADAN PUSAT STATISTIK\\nPAPUA BARAT\\nBUKU BESAR..."
            ],
            "text/html": [
              "\n",
              "\n",
              "  <div id=\"df-c34f1a4d-d435-4b9f-a05b-bd54da69f775\">\n",
              "    <div class=\"colab-df-container\">\n",
              "      <div>\n",
              "<style scoped>\n",
              "    .dataframe tbody tr th:only-of-type {\n",
              "        vertical-align: middle;\n",
              "    }\n",
              "\n",
              "    .dataframe tbody tr th {\n",
              "        vertical-align: top;\n",
              "    }\n",
              "\n",
              "    .dataframe thead th {\n",
              "        text-align: right;\n",
              "    }\n",
              "</style>\n",
              "<table border=\"1\" class=\"dataframe\">\n",
              "  <thead>\n",
              "    <tr style=\"text-align: right;\">\n",
              "      <th></th>\n",
              "      <th>teks</th>\n",
              "    </tr>\n",
              "  </thead>\n",
              "  <tbody>\n",
              "    <tr>\n",
              "      <th>0</th>\n",
              "      <td>BADAN PUSAT STATISTIK\\nPAPUA BARAT\\nBUKU BESAR...</td>\n",
              "    </tr>\n",
              "  </tbody>\n",
              "</table>\n",
              "</div>\n",
              "      <button class=\"colab-df-convert\" onclick=\"convertToInteractive('df-c34f1a4d-d435-4b9f-a05b-bd54da69f775')\"\n",
              "              title=\"Convert this dataframe to an interactive table.\"\n",
              "              style=\"display:none;\">\n",
              "\n",
              "  <svg xmlns=\"http://www.w3.org/2000/svg\" height=\"24px\"viewBox=\"0 0 24 24\"\n",
              "       width=\"24px\">\n",
              "    <path d=\"M0 0h24v24H0V0z\" fill=\"none\"/>\n",
              "    <path d=\"M18.56 5.44l.94 2.06.94-2.06 2.06-.94-2.06-.94-.94-2.06-.94 2.06-2.06.94zm-11 1L8.5 8.5l.94-2.06 2.06-.94-2.06-.94L8.5 2.5l-.94 2.06-2.06.94zm10 10l.94 2.06.94-2.06 2.06-.94-2.06-.94-.94-2.06-.94 2.06-2.06.94z\"/><path d=\"M17.41 7.96l-1.37-1.37c-.4-.4-.92-.59-1.43-.59-.52 0-1.04.2-1.43.59L10.3 9.45l-7.72 7.72c-.78.78-.78 2.05 0 2.83L4 21.41c.39.39.9.59 1.41.59.51 0 1.02-.2 1.41-.59l7.78-7.78 2.81-2.81c.8-.78.8-2.07 0-2.86zM5.41 20L4 18.59l7.72-7.72 1.47 1.35L5.41 20z\"/>\n",
              "  </svg>\n",
              "      </button>\n",
              "\n",
              "\n",
              "\n",
              "    <div id=\"df-47fad8ee-2f98-455f-9ea3-7d705ad06c3d\">\n",
              "      <button class=\"colab-df-quickchart\" onclick=\"quickchart('df-47fad8ee-2f98-455f-9ea3-7d705ad06c3d')\"\n",
              "              title=\"Suggest charts.\"\n",
              "              style=\"display:none;\">\n",
              "\n",
              "<svg xmlns=\"http://www.w3.org/2000/svg\" height=\"24px\"viewBox=\"0 0 24 24\"\n",
              "     width=\"24px\">\n",
              "    <g>\n",
              "        <path d=\"M19 3H5c-1.1 0-2 .9-2 2v14c0 1.1.9 2 2 2h14c1.1 0 2-.9 2-2V5c0-1.1-.9-2-2-2zM9 17H7v-7h2v7zm4 0h-2V7h2v10zm4 0h-2v-4h2v4z\"/>\n",
              "    </g>\n",
              "</svg>\n",
              "      </button>\n",
              "    </div>\n",
              "\n",
              "<style>\n",
              "  .colab-df-quickchart {\n",
              "    background-color: #E8F0FE;\n",
              "    border: none;\n",
              "    border-radius: 50%;\n",
              "    cursor: pointer;\n",
              "    display: none;\n",
              "    fill: #1967D2;\n",
              "    height: 32px;\n",
              "    padding: 0 0 0 0;\n",
              "    width: 32px;\n",
              "  }\n",
              "\n",
              "  .colab-df-quickchart:hover {\n",
              "    background-color: #E2EBFA;\n",
              "    box-shadow: 0px 1px 2px rgba(60, 64, 67, 0.3), 0px 1px 3px 1px rgba(60, 64, 67, 0.15);\n",
              "    fill: #174EA6;\n",
              "  }\n",
              "\n",
              "  [theme=dark] .colab-df-quickchart {\n",
              "    background-color: #3B4455;\n",
              "    fill: #D2E3FC;\n",
              "  }\n",
              "\n",
              "  [theme=dark] .colab-df-quickchart:hover {\n",
              "    background-color: #434B5C;\n",
              "    box-shadow: 0px 1px 3px 1px rgba(0, 0, 0, 0.15);\n",
              "    filter: drop-shadow(0px 1px 2px rgba(0, 0, 0, 0.3));\n",
              "    fill: #FFFFFF;\n",
              "  }\n",
              "</style>\n",
              "\n",
              "    <script>\n",
              "      async function quickchart(key) {\n",
              "        const containerElement = document.querySelector('#' + key);\n",
              "        const charts = await google.colab.kernel.invokeFunction(\n",
              "            'suggestCharts', [key], {});\n",
              "      }\n",
              "    </script>\n",
              "\n",
              "      <script>\n",
              "\n",
              "function displayQuickchartButton(domScope) {\n",
              "  let quickchartButtonEl =\n",
              "    domScope.querySelector('#df-47fad8ee-2f98-455f-9ea3-7d705ad06c3d button.colab-df-quickchart');\n",
              "  quickchartButtonEl.style.display =\n",
              "    google.colab.kernel.accessAllowed ? 'block' : 'none';\n",
              "}\n",
              "\n",
              "        displayQuickchartButton(document);\n",
              "      </script>\n",
              "      <style>\n",
              "    .colab-df-container {\n",
              "      display:flex;\n",
              "      flex-wrap:wrap;\n",
              "      gap: 12px;\n",
              "    }\n",
              "\n",
              "    .colab-df-convert {\n",
              "      background-color: #E8F0FE;\n",
              "      border: none;\n",
              "      border-radius: 50%;\n",
              "      cursor: pointer;\n",
              "      display: none;\n",
              "      fill: #1967D2;\n",
              "      height: 32px;\n",
              "      padding: 0 0 0 0;\n",
              "      width: 32px;\n",
              "    }\n",
              "\n",
              "    .colab-df-convert:hover {\n",
              "      background-color: #E2EBFA;\n",
              "      box-shadow: 0px 1px 2px rgba(60, 64, 67, 0.3), 0px 1px 3px 1px rgba(60, 64, 67, 0.15);\n",
              "      fill: #174EA6;\n",
              "    }\n",
              "\n",
              "    [theme=dark] .colab-df-convert {\n",
              "      background-color: #3B4455;\n",
              "      fill: #D2E3FC;\n",
              "    }\n",
              "\n",
              "    [theme=dark] .colab-df-convert:hover {\n",
              "      background-color: #434B5C;\n",
              "      box-shadow: 0px 1px 3px 1px rgba(0, 0, 0, 0.15);\n",
              "      filter: drop-shadow(0px 1px 2px rgba(0, 0, 0, 0.3));\n",
              "      fill: #FFFFFF;\n",
              "    }\n",
              "  </style>\n",
              "\n",
              "      <script>\n",
              "        const buttonEl =\n",
              "          document.querySelector('#df-c34f1a4d-d435-4b9f-a05b-bd54da69f775 button.colab-df-convert');\n",
              "        buttonEl.style.display =\n",
              "          google.colab.kernel.accessAllowed ? 'block' : 'none';\n",
              "\n",
              "        async function convertToInteractive(key) {\n",
              "          const element = document.querySelector('#df-c34f1a4d-d435-4b9f-a05b-bd54da69f775');\n",
              "          const dataTable =\n",
              "            await google.colab.kernel.invokeFunction('convertToInteractive',\n",
              "                                                     [key], {});\n",
              "          if (!dataTable) return;\n",
              "\n",
              "          const docLinkHtml = 'Like what you see? Visit the ' +\n",
              "            '<a target=\"_blank\" href=https://colab.research.google.com/notebooks/data_table.ipynb>data table notebook</a>'\n",
              "            + ' to learn more about interactive tables.';\n",
              "          element.innerHTML = '';\n",
              "          dataTable['output_type'] = 'display_data';\n",
              "          await google.colab.output.renderOutput(dataTable, element);\n",
              "          const docLink = document.createElement('div');\n",
              "          docLink.innerHTML = docLinkHtml;\n",
              "          element.appendChild(docLink);\n",
              "        }\n",
              "      </script>\n",
              "    </div>\n",
              "  </div>\n"
            ]
          },
          "metadata": {},
          "execution_count": 7
        }
      ]
    },
    {
      "cell_type": "code",
      "source": [
        "# mengecek isi dokumen apakah kosong atau ada isinya untuk keseluruhan dokumen\n",
        "import sys\n",
        "if data['teks'][0] == '':\n",
        "  sys.exit(\"Dokumen tidak valid. Mohon unggah dokumen yang sesuai\")"
      ],
      "metadata": {
        "id": "_v6T6rXsfTjw"
      },
      "execution_count": 14,
      "outputs": []
    },
    {
      "cell_type": "markdown",
      "source": [
        "## Preprocessing Data Input Dokumen"
      ],
      "metadata": {
        "id": "vcAdw7KD4Ncr"
      }
    },
    {
      "cell_type": "markdown",
      "source": [
        "*cleaning text*"
      ],
      "metadata": {
        "id": "ubKjxiLN4Pa8"
      }
    },
    {
      "cell_type": "code",
      "source": [
        "def casefolding(text):\n",
        "  text = text.lower()\n",
        "  text = text.replace(\"_<.*?/\\|-_:^()>\", ' ')\n",
        "  text = text.strip()\n",
        "  text = re.compile('<.*?/\\|-_:^()>——').sub('', text)\n",
        "  text = re.compile('[%s]' % re.escape(string.punctuation)).sub(' ', text)\n",
        "  text = text.translate(str.maketrans(\"\",\"\",string.punctuation))\n",
        "  text = re.sub(r\"\\d+\",\"\", text)\n",
        "  text = re.sub('\\+s', ' ', text)\n",
        "  text = re.sub(r'\\s+', ' ', text)\n",
        "  text = text.replace(\"\\n\", ' ')\n",
        "  text = text.replace(\"/\\-———————— « — —\", ' ')\n",
        "  text = text.encode('ascii', 'ignore').decode('ascii')\n",
        "  text = re.sub(r'[^\\x00-\\x7f]', \"\", text)\n",
        "\n",
        "  return text"
      ],
      "metadata": {
        "id": "5PQS4TGL4O4b"
      },
      "execution_count": 8,
      "outputs": []
    },
    {
      "cell_type": "markdown",
      "source": [
        "*tokenize*"
      ],
      "metadata": {
        "id": "qecRD-TJ4WeC"
      }
    },
    {
      "cell_type": "code",
      "source": [
        "def tokenisasi(text):\n",
        "  tokens = text.split(\" \")\n",
        "  return tokens"
      ],
      "metadata": {
        "id": "hZFFFjHJ4XpC"
      },
      "execution_count": 9,
      "outputs": []
    },
    {
      "cell_type": "markdown",
      "source": [
        "*stopword removal/stopword elimination*"
      ],
      "metadata": {
        "id": "At78DLBv4Zcb"
      }
    },
    {
      "cell_type": "code",
      "source": [
        "def stopword_elim(text):\n",
        "    nlp = Indonesian()\n",
        "    nlp = spacy.blank('id')\n",
        "    stopwords = nlp.Defaults.stop_words\n",
        "    tokens = tokenisasi(text)\n",
        "    tokens_nostopword = [w for w in tokens if not w in stopwords]\n",
        "    return (\" \").join(tokens_nostopword)"
      ],
      "metadata": {
        "id": "V0cLLMr04aPr"
      },
      "execution_count": 10,
      "outputs": []
    },
    {
      "cell_type": "markdown",
      "source": [
        "Memanggil function masing-masing preprocessing"
      ],
      "metadata": {
        "id": "0DT0ml3U4cjr"
      }
    },
    {
      "cell_type": "code",
      "source": [
        "def preprocess(string):\n",
        "  return stopword_elim(casefolding(string))"
      ],
      "metadata": {
        "id": "K4Etq4CG4dlz"
      },
      "execution_count": 11,
      "outputs": []
    },
    {
      "cell_type": "code",
      "source": [
        "data['clean_text'] = data['teks'].apply(lambda x: preprocess(x))"
      ],
      "metadata": {
        "id": "4gXwYbm14e0T"
      },
      "execution_count": 12,
      "outputs": []
    },
    {
      "cell_type": "code",
      "source": [
        "data"
      ],
      "metadata": {
        "colab": {
          "base_uri": "https://localhost:8080/",
          "height": 81
        },
        "id": "lX8i2r2Uw9B4",
        "outputId": "5104aead-803e-4144-9e6d-10c91f0ddb4f"
      },
      "execution_count": 13,
      "outputs": [
        {
          "output_type": "execute_result",
          "data": {
            "text/plain": [
              "                                                teks  \\\n",
              "0  BADAN PUSAT STATISTIK\\nPAPUA BARAT\\nBUKU BESAR...   \n",
              "\n",
              "                                          clean_text  \n",
              "0  badan pusat statistik papua barat buku kas n a...  "
            ],
            "text/html": [
              "\n",
              "\n",
              "  <div id=\"df-dd60be8b-99ef-4697-8beb-124c2d39c76d\">\n",
              "    <div class=\"colab-df-container\">\n",
              "      <div>\n",
              "<style scoped>\n",
              "    .dataframe tbody tr th:only-of-type {\n",
              "        vertical-align: middle;\n",
              "    }\n",
              "\n",
              "    .dataframe tbody tr th {\n",
              "        vertical-align: top;\n",
              "    }\n",
              "\n",
              "    .dataframe thead th {\n",
              "        text-align: right;\n",
              "    }\n",
              "</style>\n",
              "<table border=\"1\" class=\"dataframe\">\n",
              "  <thead>\n",
              "    <tr style=\"text-align: right;\">\n",
              "      <th></th>\n",
              "      <th>teks</th>\n",
              "      <th>clean_text</th>\n",
              "    </tr>\n",
              "  </thead>\n",
              "  <tbody>\n",
              "    <tr>\n",
              "      <th>0</th>\n",
              "      <td>BADAN PUSAT STATISTIK\\nPAPUA BARAT\\nBUKU BESAR...</td>\n",
              "      <td>badan pusat statistik papua barat buku kas n a...</td>\n",
              "    </tr>\n",
              "  </tbody>\n",
              "</table>\n",
              "</div>\n",
              "      <button class=\"colab-df-convert\" onclick=\"convertToInteractive('df-dd60be8b-99ef-4697-8beb-124c2d39c76d')\"\n",
              "              title=\"Convert this dataframe to an interactive table.\"\n",
              "              style=\"display:none;\">\n",
              "\n",
              "  <svg xmlns=\"http://www.w3.org/2000/svg\" height=\"24px\"viewBox=\"0 0 24 24\"\n",
              "       width=\"24px\">\n",
              "    <path d=\"M0 0h24v24H0V0z\" fill=\"none\"/>\n",
              "    <path d=\"M18.56 5.44l.94 2.06.94-2.06 2.06-.94-2.06-.94-.94-2.06-.94 2.06-2.06.94zm-11 1L8.5 8.5l.94-2.06 2.06-.94-2.06-.94L8.5 2.5l-.94 2.06-2.06.94zm10 10l.94 2.06.94-2.06 2.06-.94-2.06-.94-.94-2.06-.94 2.06-2.06.94z\"/><path d=\"M17.41 7.96l-1.37-1.37c-.4-.4-.92-.59-1.43-.59-.52 0-1.04.2-1.43.59L10.3 9.45l-7.72 7.72c-.78.78-.78 2.05 0 2.83L4 21.41c.39.39.9.59 1.41.59.51 0 1.02-.2 1.41-.59l7.78-7.78 2.81-2.81c.8-.78.8-2.07 0-2.86zM5.41 20L4 18.59l7.72-7.72 1.47 1.35L5.41 20z\"/>\n",
              "  </svg>\n",
              "      </button>\n",
              "\n",
              "\n",
              "\n",
              "    <div id=\"df-00e0aaf5-c2cf-47d2-a537-51810f63a6c5\">\n",
              "      <button class=\"colab-df-quickchart\" onclick=\"quickchart('df-00e0aaf5-c2cf-47d2-a537-51810f63a6c5')\"\n",
              "              title=\"Suggest charts.\"\n",
              "              style=\"display:none;\">\n",
              "\n",
              "<svg xmlns=\"http://www.w3.org/2000/svg\" height=\"24px\"viewBox=\"0 0 24 24\"\n",
              "     width=\"24px\">\n",
              "    <g>\n",
              "        <path d=\"M19 3H5c-1.1 0-2 .9-2 2v14c0 1.1.9 2 2 2h14c1.1 0 2-.9 2-2V5c0-1.1-.9-2-2-2zM9 17H7v-7h2v7zm4 0h-2V7h2v10zm4 0h-2v-4h2v4z\"/>\n",
              "    </g>\n",
              "</svg>\n",
              "      </button>\n",
              "    </div>\n",
              "\n",
              "<style>\n",
              "  .colab-df-quickchart {\n",
              "    background-color: #E8F0FE;\n",
              "    border: none;\n",
              "    border-radius: 50%;\n",
              "    cursor: pointer;\n",
              "    display: none;\n",
              "    fill: #1967D2;\n",
              "    height: 32px;\n",
              "    padding: 0 0 0 0;\n",
              "    width: 32px;\n",
              "  }\n",
              "\n",
              "  .colab-df-quickchart:hover {\n",
              "    background-color: #E2EBFA;\n",
              "    box-shadow: 0px 1px 2px rgba(60, 64, 67, 0.3), 0px 1px 3px 1px rgba(60, 64, 67, 0.15);\n",
              "    fill: #174EA6;\n",
              "  }\n",
              "\n",
              "  [theme=dark] .colab-df-quickchart {\n",
              "    background-color: #3B4455;\n",
              "    fill: #D2E3FC;\n",
              "  }\n",
              "\n",
              "  [theme=dark] .colab-df-quickchart:hover {\n",
              "    background-color: #434B5C;\n",
              "    box-shadow: 0px 1px 3px 1px rgba(0, 0, 0, 0.15);\n",
              "    filter: drop-shadow(0px 1px 2px rgba(0, 0, 0, 0.3));\n",
              "    fill: #FFFFFF;\n",
              "  }\n",
              "</style>\n",
              "\n",
              "    <script>\n",
              "      async function quickchart(key) {\n",
              "        const containerElement = document.querySelector('#' + key);\n",
              "        const charts = await google.colab.kernel.invokeFunction(\n",
              "            'suggestCharts', [key], {});\n",
              "      }\n",
              "    </script>\n",
              "\n",
              "      <script>\n",
              "\n",
              "function displayQuickchartButton(domScope) {\n",
              "  let quickchartButtonEl =\n",
              "    domScope.querySelector('#df-00e0aaf5-c2cf-47d2-a537-51810f63a6c5 button.colab-df-quickchart');\n",
              "  quickchartButtonEl.style.display =\n",
              "    google.colab.kernel.accessAllowed ? 'block' : 'none';\n",
              "}\n",
              "\n",
              "        displayQuickchartButton(document);\n",
              "      </script>\n",
              "      <style>\n",
              "    .colab-df-container {\n",
              "      display:flex;\n",
              "      flex-wrap:wrap;\n",
              "      gap: 12px;\n",
              "    }\n",
              "\n",
              "    .colab-df-convert {\n",
              "      background-color: #E8F0FE;\n",
              "      border: none;\n",
              "      border-radius: 50%;\n",
              "      cursor: pointer;\n",
              "      display: none;\n",
              "      fill: #1967D2;\n",
              "      height: 32px;\n",
              "      padding: 0 0 0 0;\n",
              "      width: 32px;\n",
              "    }\n",
              "\n",
              "    .colab-df-convert:hover {\n",
              "      background-color: #E2EBFA;\n",
              "      box-shadow: 0px 1px 2px rgba(60, 64, 67, 0.3), 0px 1px 3px 1px rgba(60, 64, 67, 0.15);\n",
              "      fill: #174EA6;\n",
              "    }\n",
              "\n",
              "    [theme=dark] .colab-df-convert {\n",
              "      background-color: #3B4455;\n",
              "      fill: #D2E3FC;\n",
              "    }\n",
              "\n",
              "    [theme=dark] .colab-df-convert:hover {\n",
              "      background-color: #434B5C;\n",
              "      box-shadow: 0px 1px 3px 1px rgba(0, 0, 0, 0.15);\n",
              "      filter: drop-shadow(0px 1px 2px rgba(0, 0, 0, 0.3));\n",
              "      fill: #FFFFFF;\n",
              "    }\n",
              "  </style>\n",
              "\n",
              "      <script>\n",
              "        const buttonEl =\n",
              "          document.querySelector('#df-dd60be8b-99ef-4697-8beb-124c2d39c76d button.colab-df-convert');\n",
              "        buttonEl.style.display =\n",
              "          google.colab.kernel.accessAllowed ? 'block' : 'none';\n",
              "\n",
              "        async function convertToInteractive(key) {\n",
              "          const element = document.querySelector('#df-dd60be8b-99ef-4697-8beb-124c2d39c76d');\n",
              "          const dataTable =\n",
              "            await google.colab.kernel.invokeFunction('convertToInteractive',\n",
              "                                                     [key], {});\n",
              "          if (!dataTable) return;\n",
              "\n",
              "          const docLinkHtml = 'Like what you see? Visit the ' +\n",
              "            '<a target=\"_blank\" href=https://colab.research.google.com/notebooks/data_table.ipynb>data table notebook</a>'\n",
              "            + ' to learn more about interactive tables.';\n",
              "          element.innerHTML = '';\n",
              "          dataTable['output_type'] = 'display_data';\n",
              "          await google.colab.output.renderOutput(dataTable, element);\n",
              "          const docLink = document.createElement('div');\n",
              "          docLink.innerHTML = docLinkHtml;\n",
              "          element.appendChild(docLink);\n",
              "        }\n",
              "      </script>\n",
              "    </div>\n",
              "  </div>\n"
            ]
          },
          "metadata": {},
          "execution_count": 13
        }
      ]
    },
    {
      "cell_type": "markdown",
      "source": [
        "## Prediksi Klasifikasi"
      ],
      "metadata": {
        "id": "6dF7Cq9k4gJ0"
      }
    },
    {
      "cell_type": "code",
      "source": [
        "X_train = np.array(df_train['0'].values.astype('U'))"
      ],
      "metadata": {
        "id": "kZbuWYUs4nbD"
      },
      "execution_count": 16,
      "outputs": []
    },
    {
      "cell_type": "code",
      "source": [
        "X_baru = np.array(data['clean_text'].values.astype('U'))"
      ],
      "metadata": {
        "id": "Qy8dHEvL4pR6"
      },
      "execution_count": 17,
      "outputs": []
    },
    {
      "cell_type": "markdown",
      "source": [
        "*Feature selection* menggunakan pembobotan TF-IDF"
      ],
      "metadata": {
        "id": "SfbvLQZd4qEb"
      }
    },
    {
      "cell_type": "code",
      "source": [
        "tfidf_vectorizer = TfidfVectorizer(use_idf = True, encoding='latin-1').fit(X_train)\n",
        "\n",
        "X_baru_tfidf = tfidf_vectorizer.transform(X_baru).toarray()"
      ],
      "metadata": {
        "id": "Y3eRKkBN4q_L"
      },
      "execution_count": 18,
      "outputs": []
    },
    {
      "cell_type": "markdown",
      "source": [
        "Prediksi dengan model yang sudah ada"
      ],
      "metadata": {
        "id": "gbMDBwDJ4sSa"
      }
    },
    {
      "cell_type": "code",
      "source": [
        "teks_path = \"/content/drive/MyDrive/skripsi/teks/model_mnb_baru\""
      ],
      "metadata": {
        "id": "jPFvMQYZ41PL"
      },
      "execution_count": 19,
      "outputs": []
    },
    {
      "cell_type": "code",
      "source": [
        "def prediksi(path):\n",
        "  loaded_model = joblib.load(path)\n",
        "  y_pred_mnb = loaded_model.predict(X_baru_tfidf)\n",
        "  hasil = y_pred_mnb[0]\n",
        "  return hasil"
      ],
      "metadata": {
        "id": "VJCihtts4zmU"
      },
      "execution_count": 20,
      "outputs": []
    },
    {
      "cell_type": "code",
      "source": [
        "pred = prediksi(teks_path)"
      ],
      "metadata": {
        "id": "HaHjVZlbUDyz"
      },
      "execution_count": 21,
      "outputs": []
    },
    {
      "cell_type": "code",
      "source": [
        "pred"
      ],
      "metadata": {
        "colab": {
          "base_uri": "https://localhost:8080/"
        },
        "id": "ZW6rncNDIEeM",
        "outputId": "5a5778d4-37ce-4a5c-a3b6-974c898fbbe0"
      },
      "execution_count": 22,
      "outputs": [
        {
          "output_type": "execute_result",
          "data": {
            "text/plain": [
              "3"
            ]
          },
          "metadata": {},
          "execution_count": 22
        }
      ]
    },
    {
      "cell_type": "markdown",
      "source": [
        "### Output"
      ],
      "metadata": {
        "id": "iZtBO7f35AVy"
      }
    },
    {
      "cell_type": "code",
      "source": [
        "text = ''\n",
        "if pred == 3:\n",
        "  text =\"Dokumen Valid, dokumen merupakan Buku Besar Kas\"\n",
        "else:\n",
        "  text = \"Dokumen tidak valid. Mohon unggah dokumen yang sesuai\"\n",
        "print(text)"
      ],
      "metadata": {
        "id": "y75eryaQ5Bt6",
        "colab": {
          "base_uri": "https://localhost:8080/"
        },
        "outputId": "aee58968-73cd-4650-baa5-2325528c122b"
      },
      "execution_count": 23,
      "outputs": [
        {
          "output_type": "stream",
          "name": "stdout",
          "text": [
            "Dokumen Valid, dokumen merupakan Buku Besar Kas\n"
          ]
        }
      ]
    }
  ]
}